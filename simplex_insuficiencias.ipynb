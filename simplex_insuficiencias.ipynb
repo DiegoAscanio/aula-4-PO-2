{
 "cells": [
  {
   "cell_type": "markdown",
   "id": "cb167b58",
   "metadata": {},
   "source": [
    "# Insuficiências do Simplex para a Solução de Programação Inteira\n",
    "\n",
    "Vamos otimizar:\n",
    "\n",
    "  $$\n",
    "    \\text{max}(21x + 11y)\n",
    "  $$\n",
    " \n",
    "Sujeito a:\n",
    "\n",
    "  $$\n",
    "          7x + 4y \\leq 13\\\\\n",
    "          x, y \\geq 0 \\in Z\n",
    "  $$\n",
    "  \n",
    "## Definindo o problema"
   ]
  },
  {
   "cell_type": "code",
   "execution_count": 1,
   "id": "cf76883c",
   "metadata": {},
   "outputs": [],
   "source": [
    "# 1. import solver General Linear Optimization Problem\n",
    "import numpy as np\n",
    "from ortools.linear_solver import pywraplp\n",
    "solver = pywraplp.Solver.CreateSolver('GLOP')\n",
    "# 2. define variaveis de decisao\n",
    "#    x, y >= 0\n",
    "x = solver.NumVar(0, solver.Infinity(), 'x')\n",
    "y = solver.NumVar(0, solver.Infinity(), 'y')\n",
    "# 3. adiciona restrição\n",
    "solver.Add(7 * x + 4 * y <= 13)\n",
    "# 4. adiciona objetivo\n",
    "solver.Maximize(21*x + 11*y)"
   ]
  },
  {
   "cell_type": "markdown",
   "id": "3d8a5f80",
   "metadata": {},
   "source": [
    "## Resolvendo com o SIMPLEX"
   ]
  },
  {
   "cell_type": "code",
   "execution_count": 2,
   "id": "5b6463e3",
   "metadata": {},
   "outputs": [
    {
     "name": "stdout",
     "output_type": "stream",
     "text": [
      "X: 1.86\n",
      "Y: 0.00\n",
      "Valor máximo: 39.00\n",
      "\n"
     ]
    }
   ],
   "source": [
    "status = solver.Solve()\n",
    "if status == 0: # solucao otima encontrada\n",
    "    z = solver.Objective().Value()\n",
    "    x_max = x.solution_value()\n",
    "    y_max = y.solution_value()\n",
    "    print(\n",
    "        'X: {:.2f}\\n'.format(x_max) +\n",
    "        'Y: {:.2f}\\n'.format(y_max) +\n",
    "        'Valor máximo: {:.2f}\\n'.format(z)\n",
    "    )"
   ]
  },
  {
   "cell_type": "markdown",
   "id": "f097977a",
   "metadata": {},
   "source": [
    "## Porém, X é um número fracionado, o que viola a restrição de X ser inteiro.\n",
    "\n",
    "## Arredondando X e Y"
   ]
  },
  {
   "cell_type": "code",
   "execution_count": 3,
   "id": "e76408bb",
   "metadata": {},
   "outputs": [
    {
     "name": "stdout",
     "output_type": "stream",
     "text": [
      "X: 2.00\n",
      "Y: 0.00\n",
      "Valor máximo: 42.00\n",
      "\n"
     ]
    }
   ],
   "source": [
    "x_round = np.round(x_max)\n",
    "y_round = np.round(y_max)\n",
    "Z = 21 * x_round + 11 * y_round\n",
    "print(\n",
    "        'X: {:.2f}\\n'.format(x_round) +\n",
    "        'Y: {:.2f}\\n'.format(y_round) +\n",
    "        'Valor máximo: {:.2f}\\n'.format(Z)\n",
    "    )"
   ]
  },
  {
   "cell_type": "markdown",
   "id": "449362d8",
   "metadata": {},
   "source": [
    "## Esse arredondamento viola a restrição $ 7x + 4y \\leq 13 $?"
   ]
  },
  {
   "cell_type": "code",
   "execution_count": 4,
   "id": "ac266a1d",
   "metadata": {},
   "outputs": [
    {
     "name": "stdout",
     "output_type": "stream",
     "text": [
      "Restrição violada: 7*2.0 + 4*0.0 = 14.0 >= 13\n"
     ]
    }
   ],
   "source": [
    "restricao = 7 * x_round + 4 * y_round\n",
    "if restricao <= 13:\n",
    "    print('Restrição não violada 7*{} + 4*{} = {} <= 13'.format(\n",
    "        x_round,\n",
    "        y_round,\n",
    "        restricao\n",
    "    ))\n",
    "else:\n",
    "    print('Restrição violada: 7*{} + 4*{} = {} >= 13'.format(\n",
    "        x_round,\n",
    "        y_round,\n",
    "        restricao\n",
    "    ))"
   ]
  },
  {
   "cell_type": "markdown",
   "id": "612c841c",
   "metadata": {},
   "source": [
    "## Viola a restrição. Portanto, não podemos arredondar sem critérios.\n",
    "\n",
    "## Se arredondarmos para baixo, a restrição é violada?\n",
    "\n",
    "### Arredondando X e Y para baixo"
   ]
  },
  {
   "cell_type": "code",
   "execution_count": 5,
   "id": "ed6218bb",
   "metadata": {},
   "outputs": [
    {
     "name": "stdout",
     "output_type": "stream",
     "text": [
      "X: 1.00\n",
      "Y: 0.00\n",
      "Valor máximo: 21.00\n",
      "\n"
     ]
    }
   ],
   "source": [
    "x_round = np.floor(x_max)\n",
    "y_round = np.floor(y_max)\n",
    "Z = 21 * x_round + 11 * y_round\n",
    "print(\n",
    "        'X: {:.2f}\\n'.format(x_round) +\n",
    "        'Y: {:.2f}\\n'.format(y_round) +\n",
    "        'Valor máximo: {:.2f}\\n'.format(Z)\n",
    "    )"
   ]
  },
  {
   "cell_type": "markdown",
   "id": "0f2c1978",
   "metadata": {},
   "source": [
    "## Esse arredondamento viola a restrição $ 7x + 4y \\leq 13 $?"
   ]
  },
  {
   "cell_type": "code",
   "execution_count": 6,
   "id": "3328d11e",
   "metadata": {},
   "outputs": [
    {
     "name": "stdout",
     "output_type": "stream",
     "text": [
      "Restrição não violada 7*1.0 + 4*0.0 = 7.0 <= 13\n"
     ]
    }
   ],
   "source": [
    "restricao = 7 * x_round + 4 * y_round\n",
    "if restricao <= 13:\n",
    "    print('Restrição não violada 7*{} + 4*{} = {} <= 13'.format(\n",
    "        x_round,\n",
    "        y_round,\n",
    "        restricao\n",
    "    ))\n",
    "else:\n",
    "    print('Restrição violada: 7*{} + 4*{} = {} >= 13'.format(\n",
    "        x_round,\n",
    "        y_round,\n",
    "        restricao\n",
    "    ))"
   ]
  },
  {
   "cell_type": "markdown",
   "id": "945d94a6",
   "metadata": {},
   "source": [
    "## Não, não viola, mas, esta solução, apesar de factível, está longe de ser a ótima"
   ]
  },
  {
   "cell_type": "code",
   "execution_count": 7,
   "id": "a46ade17",
   "metadata": {},
   "outputs": [
    {
     "name": "stdout",
     "output_type": "stream",
     "text": [
      "Restrição não violada 7*0 + 4*3 = 12 <= 13\n",
      "Max: 33\n"
     ]
    }
   ],
   "source": [
    "# considerando que a solução ótima é x = 0, y = 3\n",
    "x_opt = 0\n",
    "y_opt = 3\n",
    "z = 21 * x_opt + 11*y_opt\n",
    "restricao = 7 * x_opt + 4 * y_opt\n",
    "if restricao <= 13:\n",
    "    print('Restrição não violada 7*{} + 4*{} = {} <= 13'.format(\n",
    "        x_opt,\n",
    "        y_opt,\n",
    "        restricao\n",
    "    ))\n",
    "else:\n",
    "    print('Restrição violada: 7*{} + 4*{} = {} >= 13'.format(\n",
    "        x_opt,\n",
    "        y_opt,\n",
    "        restricao\n",
    "    ))\n",
    "    \n",
    "print('Max: {}'.format(z))"
   ]
  }
 ],
 "metadata": {
  "kernelspec": {
   "display_name": "Python 3 (ipykernel)",
   "language": "python",
   "name": "python3"
  },
  "language_info": {
   "codemirror_mode": {
    "name": "ipython",
    "version": 3
   },
   "file_extension": ".py",
   "mimetype": "text/x-python",
   "name": "python",
   "nbconvert_exporter": "python",
   "pygments_lexer": "ipython3",
   "version": "3.11.3"
  }
 },
 "nbformat": 4,
 "nbformat_minor": 5
}
