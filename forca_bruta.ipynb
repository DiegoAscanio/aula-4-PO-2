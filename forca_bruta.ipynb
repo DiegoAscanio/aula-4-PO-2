{
 "cells": [
  {
   "cell_type": "markdown",
   "id": "9c8b54f8",
   "metadata": {},
   "source": [
    "## Setup"
   ]
  },
  {
   "cell_type": "code",
   "execution_count": null,
   "id": "520eb58e",
   "metadata": {},
   "outputs": [],
   "source": [
    "!pip install numpy\n",
    "import numpy as np"
   ]
  },
  {
   "cell_type": "markdown",
   "id": "09d3b3c3",
   "metadata": {},
   "source": [
    "## Um algoritmo de força bruta pode ser representado pelos seguintes passos:\n",
    "\n",
    "<ol>\n",
    "<li>Defina uma variável max (min) como -infinita (infinita)</li>\n",
    "<li>Defina seu vetor de variáveis candidatas</li>\n",
    "<li>Delimite o espaço de buscas através das restrições</li>\n",
    "<li>No espaço de buscas, para cada combinação possível de valores das variáveis que respeite as restrições: </li>\n",
    "  <ul>\n",
    "    <li>Aplique a combinação de valores na função objetivo</li>\n",
    "    <li>Se o valor da combinação de valores aplicada função objetivo for \\( \\gt \\text{max} \\) </li>\n",
    "    <ul>\n",
    "      <li>Atualize o vetor de variáveis candidatas com a combinação de valores</li>\n",
    "      <li>Atualize max para o valor da aplicação da combinação de valores na função objetivo</li>\n",
    "    </ul>\n",
    "  </ul>\n",
    "  <li>Ao término do algoritmo é garantido que é encontrado o vetor ótimo de variáveis que maximiza(minimiza) a função objetivo</li>\n",
    "</ol>\n",
    "\n",
    "### Problema a ser solucionado:\n",
    "\n",
    "$$\n",
    "  \\text{max}(21x + 11y)\n",
    "$$\n",
    "\n",
    "Sujeito a:\n",
    "\n",
    "$$    \n",
    "  7x + 4y \\leq 13\\\\\n",
    "  x, y \\geq 0 \\in Z    \n",
    "$$\n",
    "\n",
    "### Passo 1: Defina máximo como -infinito"
   ]
  },
  {
   "cell_type": "code",
   "execution_count": null,
   "id": "ccf8099c",
   "metadata": {},
   "outputs": [],
   "source": [
    "infinito = np.inf\n",
    "maximo = -infinito"
   ]
  },
  {
   "cell_type": "markdown",
   "id": "b3d1fde0",
   "metadata": {},
   "source": [
    "### Passo 2: Defina seu conjunto de variáveis candidatas"
   ]
  },
  {
   "cell_type": "code",
   "execution_count": null,
   "id": "4ce3e82c",
   "metadata": {},
   "outputs": [],
   "source": [
    "x_cand, y_cand = 0, 0"
   ]
  },
  {
   "cell_type": "markdown",
   "id": "067710a4",
   "metadata": {},
   "source": [
    "### Passo 3: Delimite o espaço de buscas através das restrições\n",
    "\n",
    "Como fazer isso?\n",
    "\n",
    "Considerando que temos $n$ variáveis de decisão no nosso problema e cada uma delas é uma variável $x_i$.\n",
    "Considerando também que temos $m$ restrições no nosso problema.\n",
    "\n",
    "Para cada variável i do nosso sistema e para cada restrição j do nosso sistema devemos:\n",
    "\n",
    "<ol>\n",
    "    <li>Dividir o termo independente da restrição $j: \\beta_j$ pelo coeficiente $c_{ji}$ da variável $x_i$</li>\n",
    "    <li>Escolher como limite superior da variável $x_i$ a maior razão entre $\\beta_j \\over c_j$</li>\n",
    "</ol>\n",
    "\n",
    "Especificado pelo pseudo codigo abaixo:\n",
    "\n",
    "```\n",
    "inteiro limite_superior[n];\n",
    "para i := 0 i < n; faça\n",
    "    razao := -infinito\n",
    "    para j := 0 < m; faça\n",
    "        se beta[j] / c[j][i] > razao entao\n",
    "            razao := beta[j] / c[j][i]\n",
    "            limite_superior[i] := razao\n",
    "        fimse\n",
    "    fimpara\n",
    "fimpara\n",
    "```\n",
    "\n",
    "### Considerando nosso problema  $\\text{max}(21x + 11y)$ sujeito a $7x + 4y \\leq 13$, temos apenas uma restrição, logo:"
   ]
  },
  {
   "cell_type": "code",
   "execution_count": null,
   "id": "94f27b81",
   "metadata": {},
   "outputs": [],
   "source": [
    "limite_superior_x = 13 // 7 # (divisão inteira)\n",
    "limite_superior_y = 13 // 4 # (divisão inteira)"
   ]
  },
  {
   "cell_type": "markdown",
   "id": "7449da2d",
   "metadata": {},
   "source": [
    "### Passo 4 (explorando o espaço de buscas)\n",
    "\n",
    "No espaço de buscas, para cada combinação possível de valores das variáveis que respeite as restrições: </li>\n",
    "<ul>\n",
    "  <li>Aplique a combinação de valores na função objetivo</li>\n",
    "  <li>Se o valor da combinação de valores aplicada na função objetivo for \\( \\gt \\text{max} \\) </li>\n",
    "  <ul>\n",
    "    <li>Atualize o vetor de variáveis candidatas com a combinação de valores</li>\n",
    "    <li>Atualize max para o valor da aplicação da combinação de valores na função objetivo</li>\n",
    "  </ul>\n",
    "</ul>"
   ]
  },
  {
   "cell_type": "code",
   "execution_count": null,
   "id": "384d6a67",
   "metadata": {},
   "outputs": [],
   "source": [
    "while x_cand <= limite_superior_x:\n",
    "    y_cand = 0\n",
    "    while y_cand <= limite_superior_y:\n",
    "        # para cada combinacao de valores possiveis das variaveis\n",
    "        if 7*x_cand + 4*y_cand <= 13:\n",
    "            # que respeite as restrições do problema\n",
    "            objetivo = 21 * x_cand + 11 * y_cand # aplico a combinação de valores na funcao objetivo\n",
    "            \n",
    "            if objetivo > maximo: # se a nova combinacao for maior do que o maximo atual\n",
    "                x, y = x_cand, y_cand # atualizo as variaveis candidatas\n",
    "                maximo = objetivo # atualizo o valor maximo\n",
    "        y_cand += 1\n",
    "    x_cand += 1\n",
    "    "
   ]
  },
  {
   "cell_type": "markdown",
   "id": "b01ea46c",
   "metadata": {},
   "source": [
    "### Passo 5: Otimização encontrada com valores das variáveis de decisão pela força bruta"
   ]
  },
  {
   "cell_type": "code",
   "execution_count": null,
   "id": "7381eddc",
   "metadata": {},
   "outputs": [],
   "source": [
    "print('Z: {}\\nX: {}\\nY: {}'.format(maximo, x, y))"
   ]
  }
 ],
 "metadata": {
  "kernelspec": {
   "display_name": "Python 3 (ipykernel)",
   "language": "python",
   "name": "python3"
  },
  "language_info": {
   "codemirror_mode": {
    "name": "ipython",
    "version": 3
   },
   "file_extension": ".py",
   "mimetype": "text/x-python",
   "name": "python",
   "nbconvert_exporter": "python",
   "pygments_lexer": "ipython3",
   "version": "3.11.3"
  }
 },
 "nbformat": 4,
 "nbformat_minor": 5
}
