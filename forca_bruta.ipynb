{
 "cells": [
  {
   "cell_type": "markdown",
   "id": "ee630763",
   "metadata": {},
   "source": [
    "## Setup"
   ]
  },
  {
   "cell_type": "code",
   "execution_count": 3,
   "id": "963e7b55",
   "metadata": {},
   "outputs": [
    {
     "name": "stdout",
     "output_type": "stream",
     "text": [
      "Requirement already satisfied: numpy in /home/diego/google-drive/cefetmg/docencia/DECOM-2023-1/POII/poenv/lib/python3.11/site-packages (1.24.3)\n",
      "\n",
      "\u001b[1m[\u001b[0m\u001b[34;49mnotice\u001b[0m\u001b[1;39;49m]\u001b[0m\u001b[39;49m A new release of pip is available: \u001b[0m\u001b[31;49m23.0.1\u001b[0m\u001b[39;49m -> \u001b[0m\u001b[32;49m23.1.2\u001b[0m\n",
      "\u001b[1m[\u001b[0m\u001b[34;49mnotice\u001b[0m\u001b[1;39;49m]\u001b[0m\u001b[39;49m To update, run: \u001b[0m\u001b[32;49mpip install --upgrade pip\u001b[0m\n"
     ]
    }
   ],
   "source": [
    "!pip install numpy\n",
    "import numpy as np"
   ]
  },
  {
   "cell_type": "markdown",
   "id": "1404dddb",
   "metadata": {},
   "source": [
    "## Um algoritmo de força bruta pode ser representado pelos seguintes passos:\n",
    "\n",
    "<ol>\n",
    "<li>Defina uma variável max (min) como -infinita (infinita)</li>\n",
    "<li>Defina seu vetor de variáveis candidatas</li>\n",
    "<li>Delimite o espaço de buscas através das restrições</li>\n",
    "<li>No espaço de buscas, para cada combinação possível de valores das variáveis que respeite as restrições: </li>\n",
    "  <ul>\n",
    "    <li>Aplique a combinação de valores na função objetivo</li>\n",
    "    <li>Se o valor da combinação de valores aplicada função objetivo for \\( \\gt \\text{max} \\) </li>\n",
    "    <ul>\n",
    "      <li>Atualize o vetor de variáveis candidatas com a combinação de valores</li>\n",
    "      <li>Atualize max para o valor da aplicação da combinação de valores na função objetivo</li>\n",
    "    </ul>\n",
    "  </ul>\n",
    "  <li>Ao término do algoritmo é garantido que é encontrado o vetor ótimo de variáveis que maximiza(minimiza) a função objetivo</li>\n",
    "</ol>\n",
    "\n",
    "### Problema a ser solucionado:\n",
    "\n",
    "$$\n",
    "  \\text{max}(21x + 11y)\n",
    "$$\n",
    "\n",
    "Sujeito a:\n",
    "\n",
    "$$    \n",
    "  7x + 4y \\leq 13\\\\\n",
    "  x, y \\geq 0 \\in Z    \n",
    "$$\n",
    "\n",
    "### Passo 1: Defina máximo como -infinito"
   ]
  },
  {
   "cell_type": "code",
   "execution_count": 7,
   "id": "42c6220c",
   "metadata": {},
   "outputs": [],
   "source": [
    "infinito = np.inf\n",
    "maximo = -infinito"
   ]
  },
  {
   "cell_type": "markdown",
   "id": "df6b73a8",
   "metadata": {},
   "source": [
    "### Passo 2: Defina seu conjunto de variáveis candidatas"
   ]
  },
  {
   "cell_type": "code",
   "execution_count": 8,
   "id": "46a6220d",
   "metadata": {},
   "outputs": [],
   "source": [
    "x_cand, y_cand = 0, 0"
   ]
  },
  {
   "cell_type": "markdown",
   "id": "2a744fee",
   "metadata": {},
   "source": [
    "### Passo 3: Delimite o espaço de buscas através das restrições\n",
    "\n",
    "Como fazer isso?\n",
    "\n",
    "Simples, para cada variável:\n",
    "\n",
    "<ol>\n",
    "  <li></li>\n",
    "</ol>"
   ]
  }
 ],
 "metadata": {
  "kernelspec": {
   "display_name": "Python 3 (ipykernel)",
   "language": "python",
   "name": "python3"
  },
  "language_info": {
   "codemirror_mode": {
    "name": "ipython",
    "version": 3
   },
   "file_extension": ".py",
   "mimetype": "text/x-python",
   "name": "python",
   "nbconvert_exporter": "python",
   "pygments_lexer": "ipython3",
   "version": "3.11.3"
  }
 },
 "nbformat": 4,
 "nbformat_minor": 5
}
