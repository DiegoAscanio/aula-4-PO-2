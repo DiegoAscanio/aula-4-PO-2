{
 "cells": [
  {
   "cell_type": "markdown",
   "id": "9c8b54f8",
   "metadata": {},
   "source": [
    "## Setup"
   ]
  },
  {
   "cell_type": "code",
   "execution_count": 1,
   "id": "520eb58e",
   "metadata": {},
   "outputs": [
    {
     "name": "stdout",
     "output_type": "stream",
     "text": [
      "Requirement already satisfied: numpy in /home/diego/google-drive/cefetmg/docencia/DECOM-2023-1/POII/poenv/lib/python3.11/site-packages (1.24.3)\n",
      "Requirement already satisfied: ortools in /home/diego/google-drive/cefetmg/docencia/DECOM-2023-1/POII/poenv/lib/python3.11/site-packages (9.6.2534)\n",
      "Requirement already satisfied: absl-py>=0.13 in /home/diego/google-drive/cefetmg/docencia/DECOM-2023-1/POII/poenv/lib/python3.11/site-packages (from ortools) (1.4.0)\n",
      "Requirement already satisfied: protobuf>=4.21.12 in /home/diego/google-drive/cefetmg/docencia/DECOM-2023-1/POII/poenv/lib/python3.11/site-packages (from ortools) (4.22.4)\n",
      "Requirement already satisfied: scipy>=1.10.0 in /home/diego/google-drive/cefetmg/docencia/DECOM-2023-1/POII/poenv/lib/python3.11/site-packages (from ortools) (1.10.1)\n",
      "\n",
      "\u001b[1m[\u001b[0m\u001b[34;49mnotice\u001b[0m\u001b[1;39;49m]\u001b[0m\u001b[39;49m A new release of pip is available: \u001b[0m\u001b[31;49m23.0.1\u001b[0m\u001b[39;49m -> \u001b[0m\u001b[32;49m23.1.2\u001b[0m\n",
      "\u001b[1m[\u001b[0m\u001b[34;49mnotice\u001b[0m\u001b[1;39;49m]\u001b[0m\u001b[39;49m To update, run: \u001b[0m\u001b[32;49mpip install --upgrade pip\u001b[0m\n"
     ]
    }
   ],
   "source": [
    "!pip install numpy ortools\n",
    "import numpy as np"
   ]
  },
  {
   "cell_type": "markdown",
   "id": "09d3b3c3",
   "metadata": {},
   "source": [
    "## Um algoritmo de força bruta pode ser representado pelos seguintes passos:\n",
    "\n",
    "<ol>\n",
    "<li>Defina uma variável max (min) como -infinita (infinita)</li>\n",
    "<li>Defina seu vetor de variáveis candidatas</li>\n",
    "<li>Delimite o espaço de buscas através das restrições</li>\n",
    "<li>No espaço de buscas, para cada combinação possível de valores das variáveis que respeite as restrições: </li>\n",
    "  <ul>\n",
    "    <li>Aplique a combinação de valores na função objetivo</li>\n",
    "    <li>Se o valor da combinação de valores aplicada função objetivo for \\( \\gt \\text{max} \\) </li>\n",
    "    <ul>\n",
    "      <li>Atualize o vetor de variáveis candidatas com a combinação de valores</li>\n",
    "      <li>Atualize max para o valor da aplicação da combinação de valores na função objetivo</li>\n",
    "    </ul>\n",
    "  </ul>\n",
    "  <li>Ao término do algoritmo é garantido que é encontrado o vetor ótimo de variáveis que maximiza(minimiza) a função objetivo</li>\n",
    "</ol>\n",
    "\n",
    "### Problema das namoradas ser solucionado:\n",
    "\n",
    "$$\n",
    "  \\text{max}(L + G)\n",
    "$$\n",
    "\n",
    "Sujeito a:\n",
    "\n",
    "$$    \n",
    "  180L + 100G \\leq 800 \\text{ (Restrição monetária) }\\\\\n",
    "  2L + 4G \\leq 20 \\text{ (Restrição de tempo) }\\\\\n",
    "  L, G \\in Z_{+}\n",
    "$$\n",
    "\n",
    "### Passo 1: Defina máximo como -infinito"
   ]
  },
  {
   "cell_type": "code",
   "execution_count": 2,
   "id": "ccf8099c",
   "metadata": {},
   "outputs": [],
   "source": [
    "infinito = np.inf\n",
    "maximo = -infinito"
   ]
  },
  {
   "cell_type": "markdown",
   "id": "b3d1fde0",
   "metadata": {},
   "source": [
    "### Passo 2: Defina seu conjunto de variáveis candidatas"
   ]
  },
  {
   "cell_type": "code",
   "execution_count": 3,
   "id": "4ce3e82c",
   "metadata": {},
   "outputs": [],
   "source": [
    "L_cand, G_cand = 0, 0"
   ]
  },
  {
   "cell_type": "markdown",
   "id": "067710a4",
   "metadata": {},
   "source": [
    "### Passo 3: Delimite o espaço de buscas através das restrições\n",
    "\n",
    "Como fazer isso?\n",
    "\n",
    "Considerando que temos $n$ variáveis de decisão no nosso problema e cada uma delas é uma variável $x_i$.\n",
    "Considerando também que temos $m$ restrições no nosso problema.\n",
    "\n",
    "Para cada variável i do nosso sistema e para cada restrição j do nosso sistema devemos:\n",
    "\n",
    "<ol>\n",
    "    <li>Dividir o termo independente da restrição $j: \\beta_j$ pelo coeficiente $c_{ji}$ da variável $x_i$</li>\n",
    "    <li>Escolher como limite superior da variável $x_i$ a maior razão entre $\\beta_j \\over c_{ji}$</li>\n",
    "</ol>\n",
    "\n",
    "Especificado pelo pseudo codigo abaixo:\n",
    "\n",
    "```\n",
    "inteiro limite_superior[n];\n",
    "para i := 0 i < n; faça\n",
    "    razao := -infinito\n",
    "    para j := 0 < m; faça\n",
    "        se beta[j] / c[j][i] > razao entao\n",
    "            razao := beta[j] / c[j][i]\n",
    "            limite_superior[i] := razao\n",
    "        fimse\n",
    "    fimpara\n",
    "fimpara\n",
    "```\n",
    "\n",
    "### Considerando nosso problema \n",
    "\n",
    "$$\n",
    "  \\text{max}(L + G)\n",
    "$$\n",
    "\n",
    "Sujeito a:\n",
    "\n",
    "$$    \n",
    "  180L + 100G \\leq 800 \\text{ (Restrição monetária) }\\\\\n",
    "  2L + 4G \\leq 20 \\text{ (Restrição de tempo) }\\\\\n",
    "  L, G \\geq 0 \\in Z\n",
    "$$\n",
    "\n",
    "temos duas restrições, logo:"
   ]
  },
  {
   "cell_type": "code",
   "execution_count": 4,
   "id": "94f27b81",
   "metadata": {},
   "outputs": [
    {
     "name": "stdout",
     "output_type": "stream",
     "text": [
      "10 8\n"
     ]
    }
   ],
   "source": [
    "limite_superior = [None, None]\n",
    "matriz_restricoes = np.array(\n",
    "    [[180, 100],\n",
    "     [2,     4]]\n",
    ")\n",
    "beta = np.array(\n",
    "    [800, 20]\n",
    ")\n",
    "quantidade_variaveis = 2\n",
    "quantidade_restricoes = 2\n",
    "for i in range(quantidade_variaveis):\n",
    "    razao = -infinito\n",
    "    for j in range(quantidade_restricoes):\n",
    "        if beta[j] // matriz_restricoes[j][i] > razao:\n",
    "            razao = beta[j] // matriz_restricoes[j][i]\n",
    "            limite_superior[i] = razao\n",
    "            \n",
    "limite_superior_L = limite_superior[0]\n",
    "limite_superior_G = limite_superior[1]\n",
    "print(limite_superior_L, limite_superior_G)"
   ]
  },
  {
   "cell_type": "markdown",
   "id": "7449da2d",
   "metadata": {},
   "source": [
    "### Passo 4 (explorando o espaço de buscas)\n",
    "\n",
    "No espaço de buscas, para cada combinação possível de valores das variáveis que respeite as restrições: </li>\n",
    "<ul>\n",
    "  <li>Aplique a combinação de valores na função objetivo</li>\n",
    "  <li>Se o valor da combinação de valores aplicada na função objetivo for \\( \\gt \\text{max} \\) </li>\n",
    "  <ul>\n",
    "    <li>Atualize o vetor de variáveis candidatas com a combinação de valores</li>\n",
    "    <li>Atualize max para o valor da aplicação da combinação de valores na função objetivo</li>\n",
    "  </ul>\n",
    "</ul>"
   ]
  },
  {
   "cell_type": "code",
   "execution_count": 5,
   "id": "384d6a67",
   "metadata": {},
   "outputs": [],
   "source": [
    "while L_cand <= limite_superior_L:\n",
    "    G_cand = 0\n",
    "    while G_cand <= limite_superior_G:\n",
    "        # para cada combinacao de valores possiveis das variaveis\n",
    "        if 180*L_cand + 100*G_cand <= 800 and 2*L_cand + 4*G_cand <= 20:\n",
    "            # que respeite as restrições do problema\n",
    "            objetivo = L_cand + G_cand # aplico a combinação de valores na funcao objetivo\n",
    "            \n",
    "            if objetivo > maximo: # se a nova combinacao for maior do que o maximo atual\n",
    "                G, L = G_cand, L_cand # atualizo as variaveis candidatas\n",
    "                maximo = objetivo # atualizo o valor maximo\n",
    "        G_cand += 1\n",
    "    L_cand += 1\n",
    "Z = maximo"
   ]
  },
  {
   "cell_type": "markdown",
   "id": "b01ea46c",
   "metadata": {},
   "source": [
    "### Passo 5: Otimização encontrada com valores das variáveis de decisão pela força bruta"
   ]
  },
  {
   "cell_type": "code",
   "execution_count": 6,
   "id": "7381eddc",
   "metadata": {},
   "outputs": [
    {
     "name": "stdout",
     "output_type": "stream",
     "text": [
      "Z: 6\n",
      "L: 2\n",
      "G: 4\n"
     ]
    }
   ],
   "source": [
    "print('Z: {}\\nL: {}\\nG: {}'.format(Z, L, G))"
   ]
  },
  {
   "cell_type": "markdown",
   "id": "dfe88854",
   "metadata": {},
   "source": [
    "### Passo 6: Comparando os valores com os encontrados pelo solver do google"
   ]
  },
  {
   "cell_type": "code",
   "execution_count": 8,
   "id": "2a194ead",
   "metadata": {},
   "outputs": [
    {
     "name": "stdout",
     "output_type": "stream",
     "text": [
      "A solução da força bruta é a mesma do solver do google\n"
     ]
    }
   ],
   "source": [
    "# define solver de programação inteira\n",
    "from ortools.linear_solver import pywraplp\n",
    "solver = pywraplp.Solver.CreateSolver('SAT')\n",
    "# adiciona variaveis de decisao\n",
    "L_solver = solver.IntVar(0, infinito, 'L_solver')\n",
    "G_solver = solver.IntVar(0, infinito, 'G_solver')\n",
    "# adiciona restricoes\n",
    "solver.Add(180 * L_solver + 100 * G_solver <= 800)\n",
    "solver.Add(2 * L_solver + 4 * G_solver <= 20)\n",
    "# adiciona objetivo\n",
    "solver.Maximize(L_solver + G_solver)\n",
    "# resolve\n",
    "status = solver.Solve()\n",
    "# confere se existe solucao\n",
    "if status == 0:\n",
    "    # confere se a solucao obtida pela forca bruta é a mesma do solver do google\n",
    "    L_solver = L_solver.solution_value()\n",
    "    G_solver = G_solver.solution_value()\n",
    "    Z_solver = solver.Objective().Value()\n",
    "    if (Z, L, G) == (Z_solver, L_solver, G_solver):\n",
    "        print('A solução da força bruta é a mesma do solver do google')"
   ]
  }
 ],
 "metadata": {
  "kernelspec": {
   "display_name": "Python 3 (ipykernel)",
   "language": "python",
   "name": "python3"
  },
  "language_info": {
   "codemirror_mode": {
    "name": "ipython",
    "version": 3
   },
   "file_extension": ".py",
   "mimetype": "text/x-python",
   "name": "python",
   "nbconvert_exporter": "python",
   "pygments_lexer": "ipython3",
   "version": "3.11.3"
  }
 },
 "nbformat": 4,
 "nbformat_minor": 5
}
